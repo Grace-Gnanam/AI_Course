{
 "cells": [
  {
   "cell_type": "markdown",
   "id": "aba1475d",
   "metadata": {},
   "source": [
    "1.Write a Python program to find the reverse of a string. Expected Output (for input \"hello\"):\n",
    "olleh\n"
   ]
  },
  {
   "cell_type": "code",
   "execution_count": 1,
   "id": "5872aac3",
   "metadata": {},
   "outputs": [
    {
     "name": "stdin",
     "output_type": "stream",
     "text": [
      "Enter a string:  hello\n"
     ]
    },
    {
     "name": "stdout",
     "output_type": "stream",
     "text": [
      "olleh\n"
     ]
    }
   ],
   "source": [
    "_str = input(\"Enter a string: \")\n",
    "mylist = []\n",
    "for i in range(len(_str)-1,-1, -1): # (last index, first index, stepbackward )\n",
    "    mylist.append(_str[i])\n",
    "print(\"\".join(mylist))"
   ]
  },
  {
   "cell_type": "markdown",
   "id": "5b1ec143",
   "metadata": {},
   "source": [
    "2.Write a Python program to generate the Fibonacci sequence up to 10 terms.\n",
    "Expected Output:\n",
    "0 1 1 2 3 5 8 13 21 34\n",
    "\n"
   ]
  },
  {
   "cell_type": "code",
   "execution_count": 2,
   "id": "758cdd0a",
   "metadata": {},
   "outputs": [
    {
     "name": "stdout",
     "output_type": "stream",
     "text": [
      "0  1 1 2 3 5 8 13 21 34 "
     ]
    }
   ],
   "source": [
    "n=10\n",
    "a=0\n",
    "b=1\n",
    "print(a,\"\",b,end=\" \")\n",
    "for i in range(n-2):\n",
    "    temp = a + b\n",
    "    print(temp, end=\" \")\n",
    "    a = b\n",
    "    b = temp"
   ]
  },
  {
   "cell_type": "markdown",
   "id": "c656f04a",
   "metadata": {},
   "source": [
    "3.Write a Python function to check if a given string is a palindrome.\n",
    "Expected Output (for input \"madam\"):\n",
    "madam is a palindrome\n",
    "\n"
   ]
  },
  {
   "cell_type": "code",
   "execution_count": 3,
   "id": "7e962ec3",
   "metadata": {},
   "outputs": [
    {
     "name": "stdin",
     "output_type": "stream",
     "text": [
      "Enter a string:  madam\n"
     ]
    },
    {
     "name": "stdout",
     "output_type": "stream",
     "text": [
      "Palindrome\n"
     ]
    }
   ],
   "source": [
    "_str = input(\"Enter a string: \")\n",
    "mylist = []\n",
    "for i in range(len(_str)-1,-1, -1): # (last index, first index, stepbackward )\n",
    "    mylist.append(_str[i])\n",
    "reverse = \"\".join(mylist)\n",
    "if _str == reverse:\n",
    "    print(\"Palindrome\")\n",
    "else:\n",
    "    print(\"Not Palindrome\")"
   ]
  },
  {
   "cell_type": "markdown",
   "id": "cd7b0a78",
   "metadata": {},
   "source": [
    "\n",
    "\n",
    "4.Write a Python program to count the number of vowels in a given string. \n",
    "Expected Output (for input \"education\"):\n",
    "\n",
    "Number of vowels: 5\n",
    "    \n",
    "\n",
    "\n",
    "\n",
    "\n"
   ]
  },
  {
   "cell_type": "code",
   "execution_count": 4,
   "id": "f3bc16e3",
   "metadata": {},
   "outputs": [
    {
     "name": "stdin",
     "output_type": "stream",
     "text": [
      "Enter a word:  education\n"
     ]
    },
    {
     "name": "stdout",
     "output_type": "stream",
     "text": [
      "Number of Vowels: 5\n"
     ]
    }
   ],
   "source": [
    "inp = input(\"Enter a word: \")\n",
    "count=0\n",
    "vowels = ['a','e','i','o','u','A','E','O','I','U']\n",
    "for i in range(len(inp)):\n",
    "    if inp[i] in vowels:\n",
    "        count+=1\n",
    "print(\"Number of Vowels:\",count)"
   ]
  },
  {
   "cell_type": "markdown",
   "id": "bdbb9b19",
   "metadata": {},
   "source": [
    "5.Write a Python program to remove duplicates from a list.\n",
    "Expected Output (for input [1, 2, 2, 3, 4, 4, 5]):\n",
    "\n",
    " [1, 2, 3, 4, 5]\n",
    "\n",
    "\n"
   ]
  },
  {
   "cell_type": "code",
   "execution_count": 6,
   "id": "27ac4b2c",
   "metadata": {},
   "outputs": [
    {
     "name": "stdin",
     "output_type": "stream",
     "text": [
      "Enter a list:  1,2,2,3,4,4,5\n"
     ]
    },
    {
     "name": "stdout",
     "output_type": "stream",
     "text": [
      "[1, 2, 3, 4, 5]\n"
     ]
    }
   ],
   "source": [
    "mylist = [int(i) for i in input(\"Enter a list: \").split(',')]\n",
    "unique = []\n",
    "for i in mylist:\n",
    "    if i not in unique:\n",
    "        unique.append(int(i))\n",
    "print(unique)"
   ]
  }
 ],
 "metadata": {
  "kernelspec": {
   "display_name": "Python 3 (ipykernel)",
   "language": "python",
   "name": "python3"
  },
  "language_info": {
   "codemirror_mode": {
    "name": "ipython",
    "version": 3
   },
   "file_extension": ".py",
   "mimetype": "text/x-python",
   "name": "python",
   "nbconvert_exporter": "python",
   "pygments_lexer": "ipython3",
   "version": "3.12.7"
  }
 },
 "nbformat": 4,
 "nbformat_minor": 5
}
