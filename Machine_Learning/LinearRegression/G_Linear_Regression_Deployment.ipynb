{
 "cells": [
  {
   "cell_type": "markdown",
   "id": "7127f955",
   "metadata": {},
   "source": [
    "### Using Deployed Model"
   ]
  },
  {
   "cell_type": "code",
   "execution_count": 1,
   "id": "aa34344e-58dc-4c0c-8777-e58d3915f317",
   "metadata": {},
   "outputs": [],
   "source": [
    "import warnings\n",
    "warnings.filterwarnings(\"ignore\")"
   ]
  },
  {
   "cell_type": "code",
   "execution_count": 2,
   "id": "42a29da9",
   "metadata": {},
   "outputs": [
    {
     "name": "stdin",
     "output_type": "stream",
     "text": [
      "Enter the years of Experience:  15\n"
     ]
    },
    {
     "name": "stdout",
     "output_type": "stream",
     "text": [
      "The expected Salary is: ₹ 167181\n"
     ]
    }
   ],
   "source": [
    "import pickle\n",
    "loaded_model = pickle.load(open(\"GLinear_trained_model.sav\",'rb'))\n",
    "input_yrs_exp = int(input(\"Enter the years of Experience: \"))\n",
    "result = loaded_model.predict([[input_yrs_exp]])\n",
    "print(\"The expected Salary is: ₹\",int(result))"
   ]
  },
  {
   "cell_type": "code",
   "execution_count": null,
   "id": "275de3da",
   "metadata": {},
   "outputs": [],
   "source": []
  }
 ],
 "metadata": {
  "kernelspec": {
   "display_name": "Python 3 (ipykernel)",
   "language": "python",
   "name": "python3"
  },
  "language_info": {
   "codemirror_mode": {
    "name": "ipython",
    "version": 3
   },
   "file_extension": ".py",
   "mimetype": "text/x-python",
   "name": "python",
   "nbconvert_exporter": "python",
   "pygments_lexer": "ipython3",
   "version": "3.11.9"
  }
 },
 "nbformat": 4,
 "nbformat_minor": 5
}
