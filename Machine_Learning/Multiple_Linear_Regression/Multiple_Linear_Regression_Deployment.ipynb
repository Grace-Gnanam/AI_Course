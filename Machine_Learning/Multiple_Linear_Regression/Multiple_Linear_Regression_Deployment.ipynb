{
 "cells": [
  {
   "cell_type": "markdown",
   "id": "71f3aead",
   "metadata": {},
   "source": [
    "#### Using Deployed Model"
   ]
  },
  {
   "cell_type": "code",
   "execution_count": 1,
   "id": "c7c3cf02",
   "metadata": {},
   "outputs": [],
   "source": [
    "import warnings\n",
    "warnings.filterwarnings(\"ignore\")"
   ]
  },
  {
   "cell_type": "code",
   "execution_count": 2,
   "id": "20e019d8",
   "metadata": {},
   "outputs": [],
   "source": [
    "import pickle\n",
    "model=pickle.load(open(\"Multiple_Linear_Trained_Model.sav\",\"rb\"))"
   ]
  },
  {
   "cell_type": "code",
   "execution_count": 3,
   "id": "acb9b79f",
   "metadata": {},
   "outputs": [
    {
     "name": "stdin",
     "output_type": "stream",
     "text": [
      "Enter the R&D spend: 150000\n",
      "Enter the Administration spend: 14000\n",
      "Enter the Marketing spend: 15000\n",
      "Enter state number 1.Florida 2.New York 3.California : 3\n"
     ]
    }
   ],
   "source": [
    "rd_input=float(input(\"Enter the R&D spend:\"))\n",
    "admin_input=float(input(\"Enter the Administration spend:\"))\n",
    "mark_input=float(input(\"Enter the Marketing spend:\"))\n",
    "state_input = int(input(\"Enter state number 1.Florida 2.New York 3.California :\"))\n",
    "if(state_input==1):\n",
    "    flo_input = 1\n",
    "    ny_input = 0\n",
    "elif(state_input==2):\n",
    "    flo_input = 0\n",
    "    ny_input = 1\n",
    "elif(state_input==3):\n",
    "    flo_input = 0\n",
    "    ny_input = 0\n",
    "else:\n",
    "    print(\"Enter Valid Input\")"
   ]
  },
  {
   "cell_type": "code",
   "execution_count": 4,
   "id": "6a66b2d3",
   "metadata": {},
   "outputs": [
    {
     "name": "stdout",
     "output_type": "stream",
     "text": [
      "The Profit predicted is ₹ 175771.27\n"
     ]
    }
   ],
   "source": [
    "result=model.predict([[rd_input,admin_input,mark_input,flo_input,ny_input]])\n",
    "print(\"The Profit predicted is ₹\",round(result[0][0],2))"
   ]
  }
 ],
 "metadata": {
  "kernelspec": {
   "display_name": "Python 3 (ipykernel)",
   "language": "python",
   "name": "python3"
  },
  "language_info": {
   "codemirror_mode": {
    "name": "ipython",
    "version": 3
   },
   "file_extension": ".py",
   "mimetype": "text/x-python",
   "name": "python",
   "nbconvert_exporter": "python",
   "pygments_lexer": "ipython3",
   "version": "3.11.9"
  }
 },
 "nbformat": 4,
 "nbformat_minor": 5
}
