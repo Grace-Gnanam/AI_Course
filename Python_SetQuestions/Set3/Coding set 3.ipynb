{
 "cells": [
  {
   "cell_type": "code",
   "execution_count": null,
   "id": "511e5dbe",
   "metadata": {},
   "outputs": [],
   "source": [
    "#1. Square of Numbers from 1 to 5\n",
    "Output:\n",
    "1 4 9 16 25\n"
   ]
  },
  {
   "cell_type": "code",
   "execution_count": 1,
   "id": "252131ef-deaf-4db9-977e-e771de37194e",
   "metadata": {},
   "outputs": [
    {
     "name": "stdout",
     "output_type": "stream",
     "text": [
      "[1, 4, 9, 16, 25]\n"
     ]
    }
   ],
   "source": [
    "my_sq = [i**2 for i in range(1,6)]\n",
    "print(my_sq)"
   ]
  },
  {
   "cell_type": "code",
   "execution_count": null,
   "id": "e886abee",
   "metadata": {},
   "outputs": [],
   "source": [
    "#2.Swap Two Variables Without Using a Temporary Variable\n",
    "Question: Write a Python program to swap two variables a = 5 and b = 10 without using a temporary variable.\n",
    "\n"
   ]
  },
  {
   "cell_type": "code",
   "execution_count": 2,
   "id": "76721bcf-c337-47ac-92b6-a4257b06a7d2",
   "metadata": {},
   "outputs": [
    {
     "name": "stdout",
     "output_type": "stream",
     "text": [
      "Before swapping:  5 10\n",
      "After Swapping:  10 5\n"
     ]
    }
   ],
   "source": [
    "a=5\n",
    "b=10\n",
    "print(\"Before swapping: \",a,b)\n",
    "a,b = b,a\n",
    "print(\"After Swapping: \",a,b)"
   ]
  },
  {
   "cell_type": "code",
   "execution_count": null,
   "id": "adfc0479",
   "metadata": {},
   "outputs": [],
   "source": [
    " #3.Find Even and Odd Numbers in a List\n",
    "Question: Write a Python program to separate even and odd numbers from the list [12, 17, 19, 24, 35, 40, 56].\n",
    "\n"
   ]
  },
  {
   "cell_type": "code",
   "execution_count": 4,
   "id": "64a215c1-9910-4da3-bb69-15705ab2d875",
   "metadata": {},
   "outputs": [
    {
     "name": "stdout",
     "output_type": "stream",
     "text": [
      "[17, 19, 35]\n",
      "[12, 24, 40, 56]\n"
     ]
    }
   ],
   "source": [
    "my_num = [12, 17, 19, 24, 35, 40, 56]\n",
    "my_odd = [i for i in my_num if (i%2!=0)]\n",
    "my_even = [i for i in my_num if (i%2==0)]\n",
    "print(my_odd)\n",
    "print(my_even)"
   ]
  },
  {
   "cell_type": "code",
   "execution_count": null,
   "id": "9bd0afd7",
   "metadata": {},
   "outputs": [],
   "source": [
    "#4. Reverse a Number\n",
    "Question: Write a Python program to reverse the number 12345.\n",
    "\n"
   ]
  },
  {
   "cell_type": "code",
   "execution_count": 5,
   "id": "517e8e75-24eb-4867-9bb5-ce96a1aec3bd",
   "metadata": {},
   "outputs": [
    {
     "name": "stdout",
     "output_type": "stream",
     "text": [
      "54321\n"
     ]
    }
   ],
   "source": [
    "n = 12345\n",
    "rev = 0\n",
    "while n!=0:\n",
    "    d = n%10\n",
    "    rev = (rev*10) + d\n",
    "    n//=10\n",
    "print(rev)"
   ]
  },
  {
   "cell_type": "code",
   "execution_count": null,
   "id": "baf1f666",
   "metadata": {},
   "outputs": [],
   "source": [
    "#5. Find the Second Largest Number in a List\n",
    "Question: Write a Python program to find the second largest number in the list [12, 45, 98, 34, 23].\n"
   ]
  },
  {
   "cell_type": "code",
   "execution_count": 10,
   "id": "eb6e77d2",
   "metadata": {},
   "outputs": [
    {
     "name": "stdout",
     "output_type": "stream",
     "text": [
      "Second Largest:  45\n"
     ]
    }
   ],
   "source": [
    "lis = [12, 45, 98, 34, 23]\n",
    "max1 = lis[0]\n",
    "for i in range(len(lis)):\n",
    "    if max1<lis[i]:\n",
    "        max1 = lis[i]\n",
    "\n",
    "lis.remove(max1)\n",
    "max2 = lis[0]\n",
    "for i in range(len(lis)):\n",
    "    if max2<lis[i]:\n",
    "        max2 = lis[i]\n",
    "print(\"Second Largest: \",max2)"
   ]
  },
  {
   "cell_type": "code",
   "execution_count": null,
   "id": "cf27438f",
   "metadata": {},
   "outputs": [],
   "source": []
  },
  {
   "cell_type": "code",
   "execution_count": null,
   "id": "8a8e84b3",
   "metadata": {},
   "outputs": [],
   "source": []
  },
  {
   "cell_type": "code",
   "execution_count": null,
   "id": "a73f86c4",
   "metadata": {},
   "outputs": [],
   "source": []
  }
 ],
 "metadata": {
  "kernelspec": {
   "display_name": "Python 3 (ipykernel)",
   "language": "python",
   "name": "python3"
  },
  "language_info": {
   "codemirror_mode": {
    "name": "ipython",
    "version": 3
   },
   "file_extension": ".py",
   "mimetype": "text/x-python",
   "name": "python",
   "nbconvert_exporter": "python",
   "pygments_lexer": "ipython3",
   "version": "3.11.9"
  }
 },
 "nbformat": 4,
 "nbformat_minor": 5
}
